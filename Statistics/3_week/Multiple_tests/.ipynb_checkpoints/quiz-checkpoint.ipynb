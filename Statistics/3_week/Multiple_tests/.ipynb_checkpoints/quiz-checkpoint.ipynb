{
 "cells": [
  {
   "cell_type": "code",
   "execution_count": 1,
   "metadata": {
    "collapsed": true
   },
   "outputs": [],
   "source": [
    "import numpy as np\n",
    "import pandas as pd"
   ]
  },
  {
   "cell_type": "code",
   "execution_count": 8,
   "metadata": {
    "collapsed": true
   },
   "outputs": [],
   "source": [
    "data = pd.read_csv('AUCs.txt',sep='\\t')"
   ]
  },
  {
   "cell_type": "code",
   "execution_count": 11,
   "metadata": {
    "collapsed": true
   },
   "outputs": [],
   "source": [
    "data = data.rename(columns={'Unnamed: 0':'samples'})"
   ]
  },
  {
   "cell_type": "code",
   "execution_count": 19,
   "metadata": {
    "collapsed": true
   },
   "outputs": [],
   "source": [
    "from scipy import stats"
   ]
  },
  {
   "cell_type": "code",
   "execution_count": 23,
   "metadata": {},
   "outputs": [
    {
     "name": "stdout",
     "output_type": "stream",
     "text": [
      "P-value between C4.5 and C4.5+m is 0.0107571331198\n",
      "P-value between C4.5 and C4.5+cf is 0.861262330095\n",
      "P-value between C4.5 and C4.5+m+cf is 0.0159064441017\n",
      "P-value between C4.5+m and C4.5+cf is 0.0463327297934\n",
      "P-value between C4.5+m and C4.5+m+cf is 0.327825675845\n",
      "P-value between C4.5+cf and C4.5+m+cf is 0.0229090993544\n"
     ]
    }
   ],
   "source": [
    "p_values = []\n",
    "for i in range(1,5):\n",
    "    for j in range(1,5):\n",
    "        if i<j:\n",
    "            p_values.append(stats.wilcoxon(data.iloc[:,i],data.iloc[:,j]).pvalue)\n",
    "            print \"P-value between {} and {} is {}\".format(data.columns[i], data.columns[j] ,\\\n",
    "                                                           stats.wilcoxon(data.iloc[:,i],data.iloc[:,j]).pvalue)"
   ]
  },
  {
   "cell_type": "code",
   "execution_count": 24,
   "metadata": {},
   "outputs": [
    {
     "data": {
      "text/plain": [
       "[0.01075713311978963,\n",
       " 0.86126233009534803,\n",
       " 0.015906444101703374,\n",
       " 0.046332729793395394,\n",
       " 0.32782567584464062,\n",
       " 0.022909099354356588]"
      ]
     },
     "execution_count": 24,
     "metadata": {},
     "output_type": "execute_result"
    }
   ],
   "source": [
    "p_values"
   ]
  },
  {
   "cell_type": "code",
   "execution_count": 25,
   "metadata": {
    "collapsed": true
   },
   "outputs": [],
   "source": [
    "from statsmodels.sandbox.stats.multicomp import multipletests"
   ]
  },
  {
   "cell_type": "code",
   "execution_count": 26,
   "metadata": {},
   "outputs": [
    {
     "data": {
      "text/plain": [
       "(array([False, False, False, False, False, False], dtype=bool),\n",
       " array([ 0.0645428 ,  0.86126233,  0.07953222,  0.13899819,  0.65565135,\n",
       "         0.0916364 ]),\n",
       " 0.008512444610847103,\n",
       " 0.008333333333333333)"
      ]
     },
     "execution_count": 26,
     "metadata": {},
     "output_type": "execute_result"
    }
   ],
   "source": [
    "multipletests(p_values,alpha=0.05,method='holm')"
   ]
  },
  {
   "cell_type": "code",
   "execution_count": 27,
   "metadata": {},
   "outputs": [
    {
     "data": {
      "text/plain": [
       "(array([ True, False,  True, False, False,  True], dtype=bool),\n",
       " array([ 0.0458182 ,  0.86126233,  0.0458182 ,  0.06949909,  0.39339081,\n",
       "         0.0458182 ]),\n",
       " 0.008512444610847103,\n",
       " 0.008333333333333333)"
      ]
     },
     "execution_count": 27,
     "metadata": {},
     "output_type": "execute_result"
    }
   ],
   "source": [
    "multipletests(p_values,alpha=0.05,method='fdr_bh')"
   ]
  },
  {
   "cell_type": "code",
   "execution_count": null,
   "metadata": {
    "collapsed": true
   },
   "outputs": [],
   "source": []
  }
 ],
 "metadata": {
  "kernelspec": {
   "display_name": "Python 2",
   "language": "python",
   "name": "python2"
  },
  "language_info": {
   "codemirror_mode": {
    "name": "ipython",
    "version": 2
   },
   "file_extension": ".py",
   "mimetype": "text/x-python",
   "name": "python",
   "nbconvert_exporter": "python",
   "pygments_lexer": "ipython2",
   "version": "2.7.14"
  }
 },
 "nbformat": 4,
 "nbformat_minor": 2
}
