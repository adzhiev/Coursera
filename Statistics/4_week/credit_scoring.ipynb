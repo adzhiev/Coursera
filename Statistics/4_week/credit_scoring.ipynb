{
 "cells": [
  {
   "cell_type": "markdown",
   "metadata": {},
   "source": [
    "Для выполнения этого задания вам понадобятся данные о кредитных историях клиентов одного из банков. Поля в предоставляемых данных имеют следующий смысл:\n",
    "\n",
    "LIMIT_BAL: размер кредитного лимита (в том числе и на семью клиента)\n",
    "\n",
    "SEX: пол клиента (1 = мужской, 2 = женский )\n",
    "\n",
    "EDUCATION: образование (0 = доктор, 1 = магистр; 2 = бакалавр; 3 = выпускник школы; 4 = начальное образование; 5= прочее; 6 = нет данных ).\n",
    "\n",
    "MARRIAGE: (0 = отказываюсь отвечать; 1 = замужем/женат; 2 = холост; 3 = нет данных).\n",
    "\n",
    "AGE: возраст в годах\n",
    "\n",
    "PAY_0 - PAY_6 : История прошлых платежей по кредиту. PAY_6 - платеж в апреле, ... Pay_0 - платеж в сентябре. Платеж = (0 = исправный платеж, 1=задержка в один месяц, 2=задержка в 2 месяца ...)\n",
    "\n",
    "BILL_AMT1 - BILL_AMT6: задолженность, BILL_AMT6 - на апрель, BILL_AMT1 - на сентябрь\n",
    "\n",
    "PAY_AMT1 - PAY_AMT6: сумма уплаченная в PAY_AMT6 - апреле, ..., PAY_AMT1 - сентябре\n",
    "\n",
    "default - индикатор невозврата денежных средств\n",
    "\n",
    "\n",
    "Задание:\n",
    "\n",
    "1. Размер кредитного лимита (LIMIT_BAL). В двух группах, тех людей, кто вернул кредит (default = 0) и тех, кто его не вернул (default = 1) проверьте гипотезы: a) о равенстве медианных значений кредитного лимита с помощью подходящей интервальной оценки b) о равенстве распределений с помощью одного из подходящих непараметрических критериев проверки равенства средних. Значимы ли полученные результаты с практической точки зрения ?\n",
    "2. Пол (SEX): Проверьте гипотезу о том, что гендерный состав группы людей вернувших и не вернувших кредит отличается. Хорошо, если вы предоставите несколько различных решений этой задачи (с помощью доверительного интервала и подходящего статистического критерия)\n",
    "3. Образование (EDUCATION): Проверьте гипотезу о том, что образование не влияет на то, вернет ли человек долг. Предложите способ наглядного представления разницы в ожидаемых и наблюдаемых значениях количества человек вернувших и не вернувших долг. Например, составьте таблицу сопряженности \"образование\" на \"возврат долга\", где значением ячейки была бы разность между наблюдаемым и ожидаемым количеством человек. Как бы вы предложили модифицировать таблицу так, чтобы привести значения ячеек к одному масштабу не потеряв в интерпретируемости ? Наличие какого образования является наилучшим индикатором того, что человек отдаст долг ? наоборт, не отдаст долг ?\n",
    "4. Семейное положение (MARRIAGE): Проверьте, как связан семейный статус с индикатором дефолта: нужно предложить меру, по которой можно измерить возможную связь этих переменных и посчитать ее значение.\n",
    "5. Возраст (AGE): Относительно двух групп людей вернувших и не вернувших кредит проверьте следующие гипотезы: a) о равенстве медианных значений возрастов людей b) о равенстве распределений с помощью одного из подходящих непараметрических критериев проверки равенства средних. Значимы ли полученные результаты с практической точки зрения ?"
   ]
  },
  {
   "cell_type": "code",
   "execution_count": 76,
   "metadata": {
    "collapsed": true
   },
   "outputs": [],
   "source": [
    "import pandas as pd\n",
    "import numpy as np\n",
    "from matplotlib import pyplot as plt\n",
    "from scipy.stats import shapiro\n",
    "from scipy.stats import mannwhitneyu\n",
    "from scipy.stats import norm\n",
    "from scipy.stats import chi2_contingency"
   ]
  },
  {
   "cell_type": "code",
   "execution_count": 77,
   "metadata": {
    "collapsed": true
   },
   "outputs": [],
   "source": [
    "%matplotlib inline"
   ]
  },
  {
   "cell_type": "code",
   "execution_count": 78,
   "metadata": {
    "collapsed": true
   },
   "outputs": [],
   "source": [
    "data = pd.read_csv('credit_card_default_analysis.csv')"
   ]
  },
  {
   "cell_type": "code",
   "execution_count": 79,
   "metadata": {},
   "outputs": [
    {
     "data": {
      "text/html": [
       "<div>\n",
       "<style>\n",
       "    .dataframe thead tr:only-child th {\n",
       "        text-align: right;\n",
       "    }\n",
       "\n",
       "    .dataframe thead th {\n",
       "        text-align: left;\n",
       "    }\n",
       "\n",
       "    .dataframe tbody tr th {\n",
       "        vertical-align: top;\n",
       "    }\n",
       "</style>\n",
       "<table border=\"1\" class=\"dataframe\">\n",
       "  <thead>\n",
       "    <tr style=\"text-align: right;\">\n",
       "      <th></th>\n",
       "      <th>ID</th>\n",
       "      <th>LIMIT_BAL</th>\n",
       "      <th>SEX</th>\n",
       "      <th>EDUCATION</th>\n",
       "      <th>MARRIAGE</th>\n",
       "      <th>AGE</th>\n",
       "      <th>PAY_0</th>\n",
       "      <th>PAY_2</th>\n",
       "      <th>PAY_3</th>\n",
       "      <th>PAY_4</th>\n",
       "      <th>...</th>\n",
       "      <th>BILL_AMT4</th>\n",
       "      <th>BILL_AMT5</th>\n",
       "      <th>BILL_AMT6</th>\n",
       "      <th>PAY_AMT1</th>\n",
       "      <th>PAY_AMT2</th>\n",
       "      <th>PAY_AMT3</th>\n",
       "      <th>PAY_AMT4</th>\n",
       "      <th>PAY_AMT5</th>\n",
       "      <th>PAY_AMT6</th>\n",
       "      <th>default</th>\n",
       "    </tr>\n",
       "  </thead>\n",
       "  <tbody>\n",
       "    <tr>\n",
       "      <th>0</th>\n",
       "      <td>1</td>\n",
       "      <td>20000</td>\n",
       "      <td>2</td>\n",
       "      <td>2</td>\n",
       "      <td>1</td>\n",
       "      <td>24</td>\n",
       "      <td>2</td>\n",
       "      <td>2</td>\n",
       "      <td>0</td>\n",
       "      <td>0</td>\n",
       "      <td>...</td>\n",
       "      <td>0</td>\n",
       "      <td>0</td>\n",
       "      <td>0</td>\n",
       "      <td>0</td>\n",
       "      <td>689</td>\n",
       "      <td>0</td>\n",
       "      <td>0</td>\n",
       "      <td>0</td>\n",
       "      <td>0</td>\n",
       "      <td>1</td>\n",
       "    </tr>\n",
       "    <tr>\n",
       "      <th>1</th>\n",
       "      <td>2</td>\n",
       "      <td>120000</td>\n",
       "      <td>2</td>\n",
       "      <td>2</td>\n",
       "      <td>2</td>\n",
       "      <td>26</td>\n",
       "      <td>0</td>\n",
       "      <td>2</td>\n",
       "      <td>0</td>\n",
       "      <td>0</td>\n",
       "      <td>...</td>\n",
       "      <td>3272</td>\n",
       "      <td>3455</td>\n",
       "      <td>3261</td>\n",
       "      <td>0</td>\n",
       "      <td>1000</td>\n",
       "      <td>1000</td>\n",
       "      <td>1000</td>\n",
       "      <td>0</td>\n",
       "      <td>2000</td>\n",
       "      <td>1</td>\n",
       "    </tr>\n",
       "    <tr>\n",
       "      <th>2</th>\n",
       "      <td>3</td>\n",
       "      <td>90000</td>\n",
       "      <td>2</td>\n",
       "      <td>2</td>\n",
       "      <td>2</td>\n",
       "      <td>34</td>\n",
       "      <td>0</td>\n",
       "      <td>0</td>\n",
       "      <td>0</td>\n",
       "      <td>0</td>\n",
       "      <td>...</td>\n",
       "      <td>14331</td>\n",
       "      <td>14948</td>\n",
       "      <td>15549</td>\n",
       "      <td>1518</td>\n",
       "      <td>1500</td>\n",
       "      <td>1000</td>\n",
       "      <td>1000</td>\n",
       "      <td>1000</td>\n",
       "      <td>5000</td>\n",
       "      <td>0</td>\n",
       "    </tr>\n",
       "    <tr>\n",
       "      <th>3</th>\n",
       "      <td>4</td>\n",
       "      <td>50000</td>\n",
       "      <td>2</td>\n",
       "      <td>2</td>\n",
       "      <td>1</td>\n",
       "      <td>37</td>\n",
       "      <td>0</td>\n",
       "      <td>0</td>\n",
       "      <td>0</td>\n",
       "      <td>0</td>\n",
       "      <td>...</td>\n",
       "      <td>28314</td>\n",
       "      <td>28959</td>\n",
       "      <td>29547</td>\n",
       "      <td>2000</td>\n",
       "      <td>2019</td>\n",
       "      <td>1200</td>\n",
       "      <td>1100</td>\n",
       "      <td>1069</td>\n",
       "      <td>1000</td>\n",
       "      <td>0</td>\n",
       "    </tr>\n",
       "    <tr>\n",
       "      <th>4</th>\n",
       "      <td>5</td>\n",
       "      <td>50000</td>\n",
       "      <td>1</td>\n",
       "      <td>2</td>\n",
       "      <td>1</td>\n",
       "      <td>57</td>\n",
       "      <td>0</td>\n",
       "      <td>0</td>\n",
       "      <td>0</td>\n",
       "      <td>0</td>\n",
       "      <td>...</td>\n",
       "      <td>20940</td>\n",
       "      <td>19146</td>\n",
       "      <td>19131</td>\n",
       "      <td>2000</td>\n",
       "      <td>36681</td>\n",
       "      <td>10000</td>\n",
       "      <td>9000</td>\n",
       "      <td>689</td>\n",
       "      <td>679</td>\n",
       "      <td>0</td>\n",
       "    </tr>\n",
       "  </tbody>\n",
       "</table>\n",
       "<p>5 rows × 25 columns</p>\n",
       "</div>"
      ],
      "text/plain": [
       "   ID  LIMIT_BAL  SEX  EDUCATION  MARRIAGE  AGE  PAY_0  PAY_2  PAY_3  PAY_4  \\\n",
       "0   1      20000    2          2         1   24      2      2      0      0   \n",
       "1   2     120000    2          2         2   26      0      2      0      0   \n",
       "2   3      90000    2          2         2   34      0      0      0      0   \n",
       "3   4      50000    2          2         1   37      0      0      0      0   \n",
       "4   5      50000    1          2         1   57      0      0      0      0   \n",
       "\n",
       "    ...     BILL_AMT4  BILL_AMT5  BILL_AMT6  PAY_AMT1  PAY_AMT2  PAY_AMT3  \\\n",
       "0   ...             0          0          0         0       689         0   \n",
       "1   ...          3272       3455       3261         0      1000      1000   \n",
       "2   ...         14331      14948      15549      1518      1500      1000   \n",
       "3   ...         28314      28959      29547      2000      2019      1200   \n",
       "4   ...         20940      19146      19131      2000     36681     10000   \n",
       "\n",
       "   PAY_AMT4  PAY_AMT5  PAY_AMT6  default  \n",
       "0         0         0         0        1  \n",
       "1      1000         0      2000        1  \n",
       "2      1000      1000      5000        0  \n",
       "3      1100      1069      1000        0  \n",
       "4      9000       689       679        0  \n",
       "\n",
       "[5 rows x 25 columns]"
      ]
     },
     "execution_count": 79,
     "metadata": {},
     "output_type": "execute_result"
    }
   ],
   "source": [
    "data.head()"
   ]
  },
  {
   "cell_type": "code",
   "execution_count": 80,
   "metadata": {
    "collapsed": true
   },
   "outputs": [],
   "source": [
    "# separating good clients (default == 0) and bad clients (default == 1)\n",
    "data_bad = data[data['default'] == 1]\n",
    "data_good = data[data['default'] == 0]"
   ]
  },
  {
   "cell_type": "markdown",
   "metadata": {},
   "source": [
    "# 1 task"
   ]
  },
  {
   "cell_type": "code",
   "execution_count": 81,
   "metadata": {},
   "outputs": [
    {
     "data": {
      "image/png": "[encoded data removed]",
      "text/plain": [
       "<matplotlib.figure.Figure at 0x7fba36d64850>"
      ]
     },
     "metadata": {},
     "output_type": "display_data"
    }
   ],
   "source": [
    "data.groupby(['default'])['LIMIT_BAL'].hist();"
   ]
  },
  {
   "cell_type": "markdown",
   "metadata": {},
   "source": [
    "Firstly, we'll check for normal distribution with the help of Shapiro test (though, it's obvious from graphs that this is not true, anyway we'll do this). If the hypothesis is not rejected, we shall use parametric criteria for median (in the case of normal distribution - also mean) equality. Unless, we'll use nonparametric Mann-Whitney test which will be just for both 1) and 2)."
   ]
  },
  {
   "cell_type": "code",
   "execution_count": 82,
   "metadata": {},
   "outputs": [
    {
     "name": "stdout",
     "output_type": "stream",
     "text": [
      "P-value for SW-test on data_bad = 0.000000\n",
      "P-value for SW-test on data_good = 0.000000\n"
     ]
    }
   ],
   "source": [
    "print \"P-value for SW-test on data_bad = %f\" %shapiro(data_bad['LIMIT_BAL'].values)[1]\n",
    "print \"P-value for SW-test on data_good = %f\" %shapiro(data_good['LIMIT_BAL'].values)[1]"
   ]
  },
  {
   "cell_type": "markdown",
   "metadata": {},
   "source": [
    "Thus we reject the null hypothesis that the data is drawn from normal distribution.\n",
    "We shall use non-parametric criteria then."
   ]
  },
  {
   "cell_type": "code",
   "execution_count": 83,
   "metadata": {},
   "outputs": [
    {
     "name": "stdout",
     "output_type": "stream",
     "text": [
      "178099.726074 150000.0\n",
      "130109.65642 90000.0\n"
     ]
    }
   ],
   "source": [
    "print data_good['LIMIT_BAL'].mean(), data_good['LIMIT_BAL'].median()\n",
    "print data_bad['LIMIT_BAL'].mean(), data_bad['LIMIT_BAL'].median()"
   ]
  },
  {
   "cell_type": "markdown",
   "metadata": {},
   "source": [
    "We see that mean and median values differ much, thus we can't use non-parametric permutation criteria for means. Therefore, for both a) and b) we shall use Mann-Whitney test."
   ]
  },
  {
   "cell_type": "code",
   "execution_count": 84,
   "metadata": {},
   "outputs": [
    {
     "name": "stdout",
     "output_type": "stream",
     "text": [
      "Mann-Whitneyu p-value = 0.000000\n"
     ]
    }
   ],
   "source": [
    "print 'Mann-Whitneyu p-value = %f' %mannwhitneyu(data_good['LIMIT_BAL'],data_bad['LIMIT_BAL']).pvalue"
   ]
  },
  {
   "cell_type": "markdown",
   "metadata": {},
   "source": [
    "## Hence median values and distributions differ in the groups"
   ]
  },
  {
   "cell_type": "markdown",
   "metadata": {},
   "source": [
    "# 2 task"
   ]
  },
  {
   "cell_type": "code",
   "execution_count": 85,
   "metadata": {},
   "outputs": [
    {
     "data": {
      "image/png": "[encoded data removed]",
      "text/plain": [
       "<matplotlib.figure.Figure at 0x7fba2f3b3d90>"
      ]
     },
     "metadata": {},
     "output_type": "display_data"
    }
   ],
   "source": [
    "plt.figure(figsize=(10, 5))\n",
    "data_good.groupby(['SEX']).size().plot(kind='bar')\n",
    "data_bad.groupby(['SEX']).size().plot(kind='bar',color='r')\n",
    "plt.legend(['\"Good\" clients','\"Bad\" clients'])\n",
    "plt.title('Gender distribution among clients')\n",
    "plt.show()"
   ]
  },
  {
   "cell_type": "markdown",
   "metadata": {},
   "source": [
    "## Confidence interval for proportion difference in both groups (good and bad clients)"
   ]
  },
  {
   "cell_type": "code",
   "execution_count": 86,
   "metadata": {
    "collapsed": true
   },
   "outputs": [],
   "source": [
    "#testing for H0:p1-p2 = 0, H1:p1 != p2, alpha = 0.05\n",
    "def proportion_dif_int(n1,n2,alpha=0.05):\n",
    "    p1 = float(n1)/(n1+n2)\n",
    "    p2 = float(n2)/(n1+n2)\n",
    "    p = (p1*n1+p2*n2)/(n1+n2)\n",
    "    lower_bound = p1 - p2 - norm.ppf(1-alpha/2)*np.sqrt(p*(1-p)*(1.0/n1 + 1.0/n2))\n",
    "    upper_bound = p1 - p2 + norm.ppf(1-alpha/2)*np.sqrt(p*(1-p)*(1.0/n1 + 1.0/n2))\n",
    "    return (lower_bound, upper_bound)"
   ]
  },
  {
   "cell_type": "code",
   "execution_count": 87,
   "metadata": {},
   "outputs": [
    {
     "name": "stdout",
     "output_type": "stream",
     "text": [
      "Confidence interval for proportion difference among good clients: (-0.24145241831659214, -0.21514747896127118)\n"
     ]
    }
   ],
   "source": [
    "n1_good = data_good['SEX'].value_counts()[1] #the number of men among good clients\n",
    "n2_good = data_good['SEX'].value_counts()[2] #the number of women among good clients\n",
    "print 'Confidence interval for proportion difference among good clients: {}'.format(proportion_dif_int(n1_good,n2_good))"
   ]
  },
  {
   "cell_type": "code",
   "execution_count": 88,
   "metadata": {},
   "outputs": [
    {
     "name": "stdout",
     "output_type": "stream",
     "text": [
      "Confidence interval for proportion difference among bad clients: (-0.15839232108233137, -0.10984155474648115)\n"
     ]
    }
   ],
   "source": [
    "n1_bad = data_bad['SEX'].value_counts()[1] #the number of men among good clients\n",
    "n2_bad = data_bad['SEX'].value_counts()[2] #the number of women among good, clients\n",
    "print 'Confidence interval for proportion difference among bad clients: {}'.format(proportion_dif_int(n1_bad,n2_bad))"
   ]
  },
  {
   "cell_type": "markdown",
   "metadata": {},
   "source": [
    "## As both intervals don't include zero value, then gender difference takes place in both categories of clients\n",
    "Now let's one more time get assured that H0 is true, but with the help of p-values"
   ]
  },
  {
   "cell_type": "code",
   "execution_count": 89,
   "metadata": {
    "collapsed": true
   },
   "outputs": [],
   "source": [
    "# function for p-value in case of proportion difference hypothesis with 2-sided alternative\n",
    "def p_value(n1,n2):\n",
    "    p1 = float(n1)/(n1+n2)\n",
    "    p2 = float(n2)/(n1+n2)\n",
    "    p = (p1*n1+p2*n2)/(n1+n2)\n",
    "    z = p1-p2/np.sqrt(p*(1-p)*(1.0/n1 + 1.0/n2))\n",
    "    return 2*(1-norm.cdf(abs(z)))"
   ]
  },
  {
   "cell_type": "code",
   "execution_count": 90,
   "metadata": {},
   "outputs": [
    {
     "name": "stdout",
     "output_type": "stream",
     "text": [
      "p-value for the \"good\" category = 0.000000\n",
      "p-value for the \"bad\" category = 0.000000\n"
     ]
    }
   ],
   "source": [
    "print 'p-value for the \"good\" category = %f' %p_value(n1_good,n2_good)\n",
    "print 'p-value for the \"bad\" category = %f' %p_value(n1_bad,n2_bad)"
   ]
  },
  {
   "cell_type": "markdown",
   "metadata": {},
   "source": [
    "As we can see, p-value is much less than 0.05 => H0 is rejected"
   ]
  },
  {
   "cell_type": "markdown",
   "metadata": {},
   "source": [
    "# 3 task"
   ]
  },
  {
   "cell_type": "code",
   "execution_count": 91,
   "metadata": {},
   "outputs": [
    {
     "data": {
      "image/png": "[encoded data removed]",
      "text/plain": [
       "<matplotlib.figure.Figure at 0x7fba3023a810>"
      ]
     },
     "metadata": {},
     "output_type": "display_data"
    },
    {
     "data": {
      "image/png": "[encoded data removed]",
      "text/plain": [
       "<matplotlib.figure.Figure at 0x7fba3023a1d0>"
      ]
     },
     "metadata": {},
     "output_type": "display_data"
    }
   ],
   "source": [
    "plt.subplot(1,2,1)\n",
    "data_good.groupby('EDUCATION').size().plot(kind='bar')\n",
    "plt.title('EDUCATION distribution among \"good\" clients')\n",
    "plt.show()\n",
    "\n",
    "plt.subplot(1,2,2)\n",
    "data_bad.groupby('EDUCATION').size().plot(kind='bar')\n",
    "plt.title('EDUCATION distribution among \"bad\" clients')\n",
    "plt.show()"
   ]
  },
  {
   "cell_type": "markdown",
   "metadata": {},
   "source": [
    "The conclusion about the impact from 'EDUCATION' can be drawn by testing hypothesis H0: 'EDUCATION' and 'default' are independent against H1:H0 is wrong, alpha=0.05. We are working with categorical features, therefore, we build chi2 sample statistics:"
   ]
  },
  {
   "cell_type": "code",
   "execution_count": 92,
   "metadata": {
    "collapsed": true
   },
   "outputs": [],
   "source": [
    "#chi2 sample statistics\n",
    "def chi_stat(matrix):\n",
    "    s = 0\n",
    "    for i in range(matrix.shape[0]):\n",
    "        for j in range(matrix.shape[1]):\n",
    "            k = float(matrix[i,:].sum()*matrix[:,j].sum())/matrix.sum()\n",
    "            s += ((matrix[i,j]-k)**2)/k\n",
    "    return s"
   ]
  },
  {
   "cell_type": "code",
   "execution_count": 93,
   "metadata": {},
   "outputs": [
    {
     "name": "stdout",
     "output_type": "stream",
     "text": [
      "[[   14     0]\n",
      " [ 8549  2036]\n",
      " [10700  3330]\n",
      " [ 3680  1237]\n",
      " [  116     7]\n",
      " [  262    18]\n",
      " [   43     8]]\n"
     ]
    }
   ],
   "source": [
    "# table of contingency\n",
    "table = np.array([data_good.groupby('EDUCATION').size().values,\\\n",
    "                 [0]+data_bad.groupby('EDUCATION').size().values.tolist()]).T    #plus zero as there are no 'bad'\n",
    "print table                                                                      #clients among people with PhD "
   ]
  },
  {
   "cell_type": "code",
   "execution_count": 94,
   "metadata": {},
   "outputs": [
    {
     "name": "stdout",
     "output_type": "stream",
     "text": [
      "p-value = 0.000000\n"
     ]
    }
   ],
   "source": [
    "#now testing hypothesis with the help of our chi2 statistics\n",
    "from scipy.stats import chi2\n",
    "print 'p-value = %f' %(1-chi2.cdf(chi_stat(table), df=(7-1)*(2-1)))"
   ]
  },
  {
   "cell_type": "markdown",
   "metadata": {},
   "source": [
    "As p-value << alpha => H0 is rejected and 'EDUCATION' has influence on 'default'"
   ]
  },
  {
   "cell_type": "markdown",
   "metadata": {},
   "source": [
    "Actually, we could just use already realized function chi2_contingency, but I decided to implement it myself. For expected values I'd rather use that function:"
   ]
  },
  {
   "cell_type": "code",
   "execution_count": 103,
   "metadata": {},
   "outputs": [
    {
     "name": "stdout",
     "output_type": "stream",
     "text": [
      "[[   14     0]\n",
      " [ 8549  2036]\n",
      " [10700  3330]\n",
      " [ 3680  1237]\n",
      " [  116     7]\n",
      " [  262    18]\n",
      " [   43     8]]\n",
      "[[  1.09032000e+01   3.09680000e+00]\n",
      " [  8.24359800e+03   2.34140200e+03]\n",
      " [  1.09265640e+04   3.10343600e+03]\n",
      " [  3.82935960e+03   1.08764040e+03]\n",
      " [  9.57924000e+01   2.72076000e+01]\n",
      " [  2.18064000e+02   6.19360000e+01]\n",
      " [  3.97188000e+01   1.12812000e+01]]\n"
     ]
    }
   ],
   "source": [
    "print table\n",
    "print expected_freq"
   ]
  },
  {
   "cell_type": "code",
   "execution_count": 101,
   "metadata": {},
   "outputs": [
    {
     "name": "stdout",
     "output_type": "stream",
     "text": [
      "[[   3.0968   -3.0968]\n",
      " [ 305.402  -305.402 ]\n",
      " [-226.564   226.564 ]\n",
      " [-149.3596  149.3596]\n",
      " [  20.2076  -20.2076]\n",
      " [  43.936   -43.936 ]\n",
      " [   3.2812   -3.2812]]\n"
     ]
    }
   ],
   "source": [
    "expected_freq = chi2_contingency(table)[3]\n",
    "differences = table - expected_freq\n",
    "print differences"
   ]
  },
  {
   "cell_type": "markdown",
   "metadata": {},
   "source": [
    "Let's normalize it:"
   ]
  },
  {
   "cell_type": "code",
   "execution_count": 102,
   "metadata": {},
   "outputs": [
    {
     "name": "stdout",
     "output_type": "stream",
     "text": [
      "[[ 0.01991469 -0.01991469]\n",
      " [ 1.96395798 -1.96395798]\n",
      " [-1.45697204  1.45697204]\n",
      " [-0.96049135  0.96049135]\n",
      " [ 0.12994963 -0.12994963]\n",
      " [ 0.28254058 -0.28254058]\n",
      " [ 0.02110051 -0.02110051]]\n"
     ]
    }
   ],
   "source": [
    "from sklearn.preprocessing import StandardScaler\n",
    "x = StandardScaler().fit_transform(differences)\n",
    "print x"
   ]
  },
  {
   "cell_type": "markdown",
   "metadata": {},
   "source": [
    "So, we can look at the first column (where default == 0) and see that people with education type \"1\" are best at 'being good clients' and people with education type \"2\" are best at 'being bad clients'"
   ]
  },
  {
   "cell_type": "markdown",
   "metadata": {
    "collapsed": true
   },
   "source": [
    "# 4 task"
   ]
  },
  {
   "cell_type": "markdown",
   "metadata": {},
   "source": [
    "Like in the previous point, we are working with categorical features, therefore, we build chi2 sample statistics to test hypothesis H0: MARRIAGE and default are independent against H1: H0 is false, with alpha = 0.05."
   ]
  },
  {
   "cell_type": "code",
   "execution_count": 25,
   "metadata": {},
   "outputs": [
    {
     "data": {
      "image/png": "[encoded data removed]",
      "text/plain": [
       "<matplotlib.figure.Figure at 0x7fba36ccc1d0>"
      ]
     },
     "metadata": {},
     "output_type": "display_data"
    },
    {
     "data": {
      "image/png": "[encoded data removed]",
      "text/plain": [
       "<matplotlib.figure.Figure at 0x7fba36ccc210>"
      ]
     },
     "metadata": {},
     "output_type": "display_data"
    }
   ],
   "source": [
    "plt.subplot(1,2,1)\n",
    "data_good.groupby('MARRIAGE').size().plot(kind='bar')\n",
    "plt.title('MARRIAGE distribution among \"good\" clients')\n",
    "plt.show()\n",
    "\n",
    "plt.subplot(1,2,2)\n",
    "data_bad.groupby('MARRIAGE').size().plot(kind='bar')\n",
    "plt.title('MARRIAGE distribution among \"bad\" clients')\n",
    "plt.show()"
   ]
  },
  {
   "cell_type": "code",
   "execution_count": 26,
   "metadata": {},
   "outputs": [
    {
     "name": "stdout",
     "output_type": "stream",
     "text": [
      "[[   49     5]\n",
      " [10453  3206]\n",
      " [12623  3341]\n",
      " [  239    84]]\n"
     ]
    }
   ],
   "source": [
    "# table of contingency\n",
    "table = np.array([data_good.groupby('MARRIAGE').size().values,\\\n",
    "                 data_bad.groupby('MARRIAGE').size().values]).T\n",
    "print table"
   ]
  },
  {
   "cell_type": "code",
   "execution_count": 27,
   "metadata": {},
   "outputs": [
    {
     "name": "stdout",
     "output_type": "stream",
     "text": [
      "p-value = 0.000000\n"
     ]
    }
   ],
   "source": [
    "print 'p-value = %f' %(1-chi2.cdf(chi_stat(table), df=(4-1)*(2-1)))"
   ]
  },
  {
   "cell_type": "markdown",
   "metadata": {},
   "source": [
    "As p-value << alpha => H0 can be rejected => 'MARRIAGE' and 'default' are not independent. For these categorical features we can count V-Cramer coefficient:"
   ]
  },
  {
   "cell_type": "code",
   "execution_count": 28,
   "metadata": {},
   "outputs": [
    {
     "name": "stdout",
     "output_type": "stream",
     "text": [
      "V-Cramer coef = 0.034478\n"
     ]
    }
   ],
   "source": [
    "phi = np.sqrt(chi_stat(table)/data.shape[0])\n",
    "print \"V-Cramer coef = %f\" %phi"
   ]
  },
  {
   "cell_type": "markdown",
   "metadata": {},
   "source": [
    "# 5 task"
   ]
  },
  {
   "cell_type": "code",
   "execution_count": 64,
   "metadata": {},
   "outputs": [
    {
     "data": {
      "image/png": "[encoded data removed]",
      "text/plain": [
       "<matplotlib.figure.Figure at 0x7fba305ae890>"
      ]
     },
     "metadata": {},
     "output_type": "display_data"
    },
    {
     "data": {
      "image/png": "[encoded data removed]",
      "text/plain": [
       "<matplotlib.figure.Figure at 0x7fba36dc2250>"
      ]
     },
     "metadata": {},
     "output_type": "display_data"
    }
   ],
   "source": [
    "plt.figure(figsize=(25,7))\n",
    "\n",
    "plt.subplot(1,2,1)\n",
    "data_good.groupby('AGE').size().plot(kind='bar')\n",
    "plt.title('AGE distribution among \"good\" clients')\n",
    "plt.show()\n",
    "\n",
    "plt.figure(figsize=(25,7))\n",
    "\n",
    "plt.subplot(1,2,2)\n",
    "data_bad.groupby('AGE').size().plot(kind='bar')\n",
    "plt.title('AGE distribution among \"bad\" clients')\n",
    "plt.show()"
   ]
  },
  {
   "cell_type": "markdown",
   "metadata": {},
   "source": [
    "Firstly, we'll check for normal distribution with the help of Shapiro test (though, it's obvious from graphs that this is not true, anyway we'll do this). If the hypothesis is not rejected, we shall use parametric criteria for median (in the case of normal distribution - also mean) equality. Unless, we'll use nonparametric Mann-Whitney test which will be just for both 1) and 2)."
   ]
  },
  {
   "cell_type": "code",
   "execution_count": 65,
   "metadata": {},
   "outputs": [
    {
     "name": "stdout",
     "output_type": "stream",
     "text": [
      "P-value for SW-test on data_bad about normality of AGE = 0.000000\n",
      "P-value for SW-test on data_good about normality of AGE = 0.000000\n"
     ]
    }
   ],
   "source": [
    "print \"P-value for SW-test on data_bad about normality of AGE = %f\" %shapiro(data_bad['AGE'].values)[1]\n",
    "print \"P-value for SW-test on data_good about normality of AGE = %f\" %shapiro(data_good['AGE'].values)[1]"
   ]
  },
  {
   "cell_type": "markdown",
   "metadata": {},
   "source": [
    "As p-value << alpha = 0.05 (or even less), then distribution of age is not normal in both categories. Therefore, we use Mann-Whitney criterion:"
   ]
  },
  {
   "cell_type": "code",
   "execution_count": 66,
   "metadata": {},
   "outputs": [
    {
     "name": "stdout",
     "output_type": "stream",
     "text": [
      "Mann-Whitneyu p-value = 0.186252\n"
     ]
    }
   ],
   "source": [
    "print 'Mann-Whitneyu p-value = %f' %mannwhitneyu(data_good['AGE'],data_bad['AGE']).pvalue"
   ]
  },
  {
   "cell_type": "markdown",
   "metadata": {},
   "source": [
    "As p > alpha = 0.05 => we can't reject H0: F1(x) == F2(x) => median terms are equal."
   ]
  },
  {
   "cell_type": "markdown",
   "metadata": {
    "collapsed": true
   },
   "source": [
    "From practical point of view this conclusion doesn't mean much."
   ]
  },
  {
   "cell_type": "code",
   "execution_count": null,
   "metadata": {
    "collapsed": true
   },
   "outputs": [],
   "source": []
  }
 ],
 "metadata": {
  "kernelspec": {
   "display_name": "Python 2",
   "language": "python",
   "name": "python2"
  },
  "language_info": {
   "codemirror_mode": {
    "name": "ipython",
    "version": 2
   },
   "file_extension": ".py",
   "mimetype": "text/x-python",
   "name": "python",
   "nbconvert_exporter": "python",
   "pygments_lexer": "ipython2",
   "version": "2.7.14"
  }
 },
 "nbformat": 4,
 "nbformat_minor": 2
}
