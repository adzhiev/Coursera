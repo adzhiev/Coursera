{
 "cells": [
  {
   "cell_type": "code",
   "execution_count": 1,
   "metadata": {
    "collapsed": true
   },
   "outputs": [],
   "source": [
    "import pandas as pd\n",
    "import numpy as np"
   ]
  },
  {
   "cell_type": "code",
   "execution_count": 11,
   "metadata": {
    "collapsed": true
   },
   "outputs": [],
   "source": [
    "df = pd.read_csv('water.txt', sep='\\t', engine='python',names=['location','town','mortality','hardness'],header=0)\n"
   ]
  },
  {
   "cell_type": "code",
   "execution_count": 12,
   "metadata": {},
   "outputs": [
    {
     "data": {
      "text/html": [
       "<div>\n",
       "<style>\n",
       "    .dataframe thead tr:only-child th {\n",
       "        text-align: right;\n",
       "    }\n",
       "\n",
       "    .dataframe thead th {\n",
       "        text-align: left;\n",
       "    }\n",
       "\n",
       "    .dataframe tbody tr th {\n",
       "        vertical-align: top;\n",
       "    }\n",
       "</style>\n",
       "<table border=\"1\" class=\"dataframe\">\n",
       "  <thead>\n",
       "    <tr style=\"text-align: right;\">\n",
       "      <th></th>\n",
       "      <th>location</th>\n",
       "      <th>town</th>\n",
       "      <th>mortality</th>\n",
       "      <th>hardness</th>\n",
       "    </tr>\n",
       "  </thead>\n",
       "  <tbody>\n",
       "    <tr>\n",
       "      <th>0</th>\n",
       "      <td>South</td>\n",
       "      <td>Bath</td>\n",
       "      <td>1247</td>\n",
       "      <td>105</td>\n",
       "    </tr>\n",
       "    <tr>\n",
       "      <th>1</th>\n",
       "      <td>North</td>\n",
       "      <td>Birkenhead</td>\n",
       "      <td>1668</td>\n",
       "      <td>17</td>\n",
       "    </tr>\n",
       "    <tr>\n",
       "      <th>2</th>\n",
       "      <td>South</td>\n",
       "      <td>Birmingham</td>\n",
       "      <td>1466</td>\n",
       "      <td>5</td>\n",
       "    </tr>\n",
       "    <tr>\n",
       "      <th>3</th>\n",
       "      <td>North</td>\n",
       "      <td>Blackburn</td>\n",
       "      <td>1800</td>\n",
       "      <td>14</td>\n",
       "    </tr>\n",
       "    <tr>\n",
       "      <th>4</th>\n",
       "      <td>North</td>\n",
       "      <td>Blackpool</td>\n",
       "      <td>1609</td>\n",
       "      <td>18</td>\n",
       "    </tr>\n",
       "  </tbody>\n",
       "</table>\n",
       "</div>"
      ],
      "text/plain": [
       "  location        town  mortality  hardness\n",
       "0    South        Bath       1247       105\n",
       "1    North  Birkenhead       1668        17\n",
       "2    South  Birmingham       1466         5\n",
       "3    North   Blackburn       1800        14\n",
       "4    North   Blackpool       1609        18"
      ]
     },
     "execution_count": 12,
     "metadata": {},
     "output_type": "execute_result"
    }
   ],
   "source": [
    "df.head()"
   ]
  },
  {
   "cell_type": "code",
   "execution_count": 14,
   "metadata": {},
   "outputs": [
    {
     "data": {
      "text/plain": [
       "(61, 4)"
      ]
     },
     "execution_count": 14,
     "metadata": {},
     "output_type": "execute_result"
    }
   ],
   "source": [
    "df.shape"
   ]
  },
  {
   "cell_type": "code",
   "execution_count": 17,
   "metadata": {},
   "outputs": [
    {
     "data": {
      "text/plain": [
       "array([1247, 1668, 1466, 1800, 1609, 1558, 1807, 1299, 1637, 1359, 1392,\n",
       "       1755, 1519, 1307, 1254, 1491, 1555, 1428, 1318, 1260, 1723, 1379,\n",
       "       1742, 1574, 1569, 1096, 1591, 1402, 1772, 1828, 1704, 1702, 1581,\n",
       "       1309, 1259, 1427, 1724, 1175, 1486, 1456, 1696, 1236, 1711, 1444,\n",
       "       1591, 1987, 1495, 1369, 1257, 1587, 1713, 1557, 1640, 1709, 1625,\n",
       "       1625, 1527, 1627, 1486, 1485, 1378])"
      ]
     },
     "execution_count": 17,
     "metadata": {},
     "output_type": "execute_result"
    }
   ],
   "source": [
    "df.mortality.values"
   ]
  },
  {
   "cell_type": "code",
   "execution_count": 55,
   "metadata": {},
   "outputs": [],
   "source": [
    "mort_std = df.mortality.std()/np.sqrt(df.mortality.values.size)\n",
    "hardness_std = df.hardness.std()/np.sqrt(df.hardness.values.size)\n",
    "mort_mean = df.mortality.mean()\n",
    "hardness_mean = df.hardness.mean()"
   ]
  },
  {
   "cell_type": "code",
   "execution_count": 56,
   "metadata": {
    "collapsed": true
   },
   "outputs": [],
   "source": [
    "from statsmodels.stats.weightstats import _tconfint_generic"
   ]
  },
  {
   "cell_type": "code",
   "execution_count": 58,
   "metadata": {},
   "outputs": [
    {
     "name": "stdout",
     "output_type": "stream",
     "text": [
      "Confidence interval for mean mortality:(1476.0833413552848, 1572.2117406119285)\n",
      "Point estimatation of mean mortality:1524.14754098\n"
     ]
    }
   ],
   "source": [
    "print 'Confidence interval for mean mortality:{}'.format(_tconfint_generic(mort_mean,mort_std,df.mortality.values.size-1,0.05,'two-sided'))\n",
    "print 'Point estimatation of mean mortality:{}'.format(mort_mean)"
   ]
  },
  {
   "cell_type": "code",
   "execution_count": 59,
   "metadata": {},
   "outputs": [
    {
     "name": "stdout",
     "output_type": "stream",
     "text": [
      "Confidence interval for mean hardness:(37.424010072079227, 56.93664566562569)\n",
      "Point estimatation of mean hardness:47.1803278689\n"
     ]
    }
   ],
   "source": [
    "print 'Confidence interval for mean hardness:{}'.format(_tconfint_generic(hardness_mean,hardness_std,df.hardness.values.size-1,0.05,'two-sided'))\n",
    "print 'Point estimatation of mean hardness:{}'.format(hardness_mean)"
   ]
  },
  {
   "cell_type": "code",
   "execution_count": 34,
   "metadata": {},
   "outputs": [],
   "source": [
    "south_mort_std = df[df['location'] == 'South']['mortality'].std()/np.sqrt(df[df['location'] == 'South']['mortality'].values.size)\n",
    "south_mort_mean = df[df['location'] == 'South']['mortality'].mean()"
   ]
  },
  {
   "cell_type": "code",
   "execution_count": 60,
   "metadata": {},
   "outputs": [
    {
     "name": "stdout",
     "output_type": "stream",
     "text": [
      "Confidence interval for mean mortality in the South:(1320.1517462936238, 1433.463638321761)\n",
      "Point estimatation of mean mortality in the South:1376.80769231\n"
     ]
    }
   ],
   "source": [
    "print 'Confidence interval for mean mortality in the South:{}'.format(_tconfint_generic(south_mort_mean,south_mort_std,df[df['location'] == 'South']['mortality'].values.size-1,0.05,'two-sided'))\n",
    "print 'Point estimatation of mean mortality in the South:{}'.format(south_mort_mean)"
   ]
  },
  {
   "cell_type": "code",
   "execution_count": 61,
   "metadata": {
    "collapsed": true
   },
   "outputs": [],
   "source": [
    "north_mort_std = df[df['location'] == 'North']['mortality'].std()/np.sqrt(df[df['location'] == 'North']['mortality'].values.size)\n",
    "north_mort_mean = df[df['location'] == 'North']['mortality'].mean()"
   ]
  },
  {
   "cell_type": "code",
   "execution_count": 62,
   "metadata": {},
   "outputs": [
    {
     "name": "stdout",
     "output_type": "stream",
     "text": [
      "Confidence interval for mean mortality in the North:(1586.5605251961385, 1680.6394748038613)\n",
      "Point estimatation of mean mortality in the North:1633.6\n"
     ]
    }
   ],
   "source": [
    "print 'Confidence interval for mean mortality in the North:{}'.format(_tconfint_generic(north_mort_mean,north_mort_std,df[df['location'] == 'North']['mortality'].values.size-1,0.05,'two-sided'))\n",
    "print 'Point estimatation of mean mortality in the North:{}'.format(north_mort_mean)"
   ]
  },
  {
   "cell_type": "code",
   "execution_count": 40,
   "metadata": {},
   "outputs": [],
   "source": [
    "south_hard_std = df[df['location'] == 'South']['hardness'].std()/np.sqrt(df[df['location'] == 'South']['hardness'].values.size)\n",
    "south_hard_mean = df[df['location'] == 'South']['hardness'].mean()\n",
    "north_hard_std = df[df['location'] == 'North']['hardness'].std()/np.sqrt(df[df['location'] == 'North']['hardness'].values.size)\n",
    "north_hard_mean = df[df['location'] == 'North']['hardness'].mean()"
   ]
  },
  {
   "cell_type": "code",
   "execution_count": 63,
   "metadata": {},
   "outputs": [
    {
     "name": "stdout",
     "output_type": "stream",
     "text": [
      "Confidence interval for mean hardness in the South:(53.467198692036106, 86.071262846425441)\n",
      "Confidence interval for mean hardness in the North:(21.422487285724259, 39.377512714275738)\n"
     ]
    }
   ],
   "source": [
    "print 'Confidence interval for mean hardness in the South:{}'.format(_tconfint_generic(south_hard_mean,south_hard_std,df[df['location'] == 'South']['hardness'].values.size-1,0.05,'two-sided'))\n",
    "print 'Confidence interval for mean hardness in the North:{}'.format(_tconfint_generic(north_hard_mean,north_hard_std,df[df['location'] == 'North']['hardness'].values.size-1,0.05,'two-sided'))\n"
   ]
  },
  {
   "cell_type": "code",
   "execution_count": 49,
   "metadata": {},
   "outputs": [
    {
     "data": {
      "text/plain": [
       "384.1599999999999"
      ]
     },
     "execution_count": 49,
     "metadata": {},
     "output_type": "execute_result"
    }
   ],
   "source": [
    "(1.96/0.1)**2"
   ]
  },
  {
   "cell_type": "code",
   "execution_count": null,
   "metadata": {
    "collapsed": true
   },
   "outputs": [],
   "source": []
  }
 ],
 "metadata": {
  "kernelspec": {
   "display_name": "Python 2",
   "language": "python",
   "name": "python2"
  },
  "language_info": {
   "codemirror_mode": {
    "name": "ipython",
    "version": 2
   },
   "file_extension": ".py",
   "mimetype": "text/x-python",
   "name": "python",
   "nbconvert_exporter": "python",
   "pygments_lexer": "ipython2",
   "version": "2.7.14"
  }
 },
 "nbformat": 4,
 "nbformat_minor": 2
}
