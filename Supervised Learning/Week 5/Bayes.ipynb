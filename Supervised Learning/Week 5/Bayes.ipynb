{
 "cells": [
  {
   "cell_type": "code",
   "execution_count": 1,
   "metadata": {
    "collapsed": true
   },
   "outputs": [],
   "source": [
    "from sklearn import datasets"
   ]
  },
  {
   "cell_type": "code",
   "execution_count": 2,
   "metadata": {
    "collapsed": true
   },
   "outputs": [],
   "source": [
    "digits = datasets.load_digits()\n",
    "breast_cancer = datasets.load_breast_cancer()"
   ]
  },
  {
   "cell_type": "code",
   "execution_count": 13,
   "metadata": {},
   "outputs": [],
   "source": [
    "from sklearn import model_selection,naive_bayes"
   ]
  },
  {
   "cell_type": "code",
   "execution_count": 18,
   "metadata": {},
   "outputs": [
    {
     "name": "stdout",
     "output_type": "stream",
     "text": [
      "Bernoulli for breast_cancer: 0.627420402859\n",
      "Bernoulli for digits: 0.825823650778\n",
      "Multinomial for breast_cancer: 0.894579040193\n",
      "Multinomial for digits: 0.870877148974\n",
      "Gaussian for breast_cancer: 0.936749280609\n",
      "Gaussian for digits: 0.818600380355\n"
     ]
    }
   ],
   "source": [
    "bernoulli = naive_bayes.BernoulliNB()\n",
    "multinomial = naive_bayes.MultinomialNB()\n",
    "gaussian = naive_bayes.GaussianNB()\n",
    "\n",
    "print \"Bernoulli for breast_cancer:\", model_selection.cross_val_score(bernoulli,breast_cancer.data,breast_cancer.target).mean()\n",
    "print \"Bernoulli for digits:\", model_selection.cross_val_score(bernoulli,digits.data,digits.target).mean()\n",
    "\n",
    "print \"Multinomial for breast_cancer:\", model_selection.cross_val_score(multinomial,breast_cancer.data,breast_cancer.target).mean()\n",
    "print \"Multinomial for digits:\", model_selection.cross_val_score(multinomial,digits.data,digits.target).mean()\n",
    "\n",
    "print \"Gaussian for breast_cancer:\", model_selection.cross_val_score(gaussian,breast_cancer.data,breast_cancer.target).mean()\n",
    "print \"Gaussian for digits:\", model_selection.cross_val_score(gaussian,digits.data,digits.target).mean()"
   ]
  },
  {
   "cell_type": "code",
   "execution_count": 20,
   "metadata": {},
   "outputs": [],
   "source": [
    "f = open('ans1','w')\n",
    "f.write(str(model_selection.cross_val_score(gaussian,breast_cancer.data,breast_cancer.target).mean()))\n",
    "f.close()"
   ]
  },
  {
   "cell_type": "code",
   "execution_count": 21,
   "metadata": {
    "collapsed": true
   },
   "outputs": [],
   "source": [
    "f = open('ans2','w')\n",
    "f.write(str(model_selection.cross_val_score(multinomial,digits.data,digits.target).mean()))\n",
    "f.close()"
   ]
  },
  {
   "cell_type": "code",
   "execution_count": 25,
   "metadata": {},
   "outputs": [],
   "source": [
    "f = open('ans3','w')\n",
    "f.write(str(3)+' '+str(4))\n",
    "f.close()"
   ]
  },
  {
   "cell_type": "code",
   "execution_count": null,
   "metadata": {
    "collapsed": true
   },
   "outputs": [],
   "source": []
  }
 ],
 "metadata": {
  "kernelspec": {
   "display_name": "Python 2",
   "language": "python",
   "name": "python2"
  },
  "language_info": {
   "codemirror_mode": {
    "name": "ipython",
    "version": 2
   },
   "file_extension": ".py",
   "mimetype": "text/x-python",
   "name": "python",
   "nbconvert_exporter": "python",
   "pygments_lexer": "ipython2",
   "version": "2.7.14"
  }
 },
 "nbformat": 4,
 "nbformat_minor": 2
}
