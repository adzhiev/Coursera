{
 "cells": [
  {
   "cell_type": "code",
   "execution_count": 35,
   "metadata": {
    "collapsed": true
   },
   "outputs": [],
   "source": [
    "from sklearn import datasets\n",
    "import numpy as np"
   ]
  },
  {
   "cell_type": "code",
   "execution_count": 5,
   "metadata": {
    "collapsed": true
   },
   "outputs": [],
   "source": [
    "digits = datasets.load_digits()"
   ]
  },
  {
   "cell_type": "code",
   "execution_count": 8,
   "metadata": {},
   "outputs": [],
   "source": [
    "data = digits.data\n",
    "target = digits.target"
   ]
  },
  {
   "cell_type": "code",
   "execution_count": 50,
   "metadata": {},
   "outputs": [
    {
     "data": {
      "text/plain": [
       "int"
      ]
     },
     "execution_count": 50,
     "metadata": {},
     "output_type": "execute_result"
    }
   ],
   "source": [
    "type(data.shape[1])"
   ]
  },
  {
   "cell_type": "code",
   "execution_count": 17,
   "metadata": {},
   "outputs": [],
   "source": [
    "from sklearn import model_selection, tree"
   ]
  },
  {
   "cell_type": "code",
   "execution_count": 28,
   "metadata": {},
   "outputs": [
    {
     "name": "stdout",
     "output_type": "stream",
     "text": [
      "0.83086244395\n"
     ]
    }
   ],
   "source": [
    "tree_clf = tree.DecisionTreeClassifier(random_state=1)\n",
    "cross_val_1 = model_selection.cross_val_score(estimator=tree_clf,X=data,y=target,cv=10)\n",
    "ans_1 = cross_val_1.mean()\n",
    "print ans_1"
   ]
  },
  {
   "cell_type": "code",
   "execution_count": 29,
   "metadata": {},
   "outputs": [],
   "source": [
    "from sklearn import ensemble"
   ]
  },
  {
   "cell_type": "code",
   "execution_count": 53,
   "metadata": {},
   "outputs": [
    {
     "name": "stdout",
     "output_type": "stream",
     "text": [
      "0.924384509304\n"
     ]
    }
   ],
   "source": [
    "bag_clf = ensemble.BaggingClassifier(base_estimator=tree_clf,n_estimators=100)\n",
    "cross_val_2 = model_selection.cross_val_score(estimator=bag_clf,X=data,y=target,cv=10)\n",
    "ans_2 = cross_val_2.mean()\n",
    "print ans_2"
   ]
  },
  {
   "cell_type": "code",
   "execution_count": 42,
   "metadata": {
    "collapsed": true
   },
   "outputs": [],
   "source": [
    "?model_selection.cross_val_score()"
   ]
  },
  {
   "cell_type": "code",
   "execution_count": 55,
   "metadata": {
    "collapsed": true
   },
   "outputs": [],
   "source": [
    "?tree.DecisionTreeClassifier"
   ]
  },
  {
   "cell_type": "code",
   "execution_count": 56,
   "metadata": {
    "collapsed": true
   },
   "outputs": [],
   "source": [
    "?ensemble.BaggingClassifier()"
   ]
  },
  {
   "cell_type": "code",
   "execution_count": 54,
   "metadata": {},
   "outputs": [
    {
     "name": "stdout",
     "output_type": "stream",
     "text": [
      "0.93426365569\n"
     ]
    }
   ],
   "source": [
    "bag_clf_feat = ensemble.BaggingClassifier(base_estimator=tree_clf,n_estimators=100, max_features=int(np.sqrt(data.shape[1])))\n",
    "cross_val_3 = model_selection.cross_val_score(estimator=bag_clf_feat,X=data,y=target,cv=10)\n",
    "ans_3 = cross_val_3.mean()\n",
    "print ans_3"
   ]
  },
  {
   "cell_type": "code",
   "execution_count": 57,
   "metadata": {},
   "outputs": [
    {
     "name": "stdout",
     "output_type": "stream",
     "text": [
      "0.934513673575\n"
     ]
    }
   ],
   "source": [
    "tree_clf_rand = tree.DecisionTreeClassifier(splitter='random',random_state=1)\n",
    "bag_clf_rand = ensemble.BaggingClassifier(base_estimator=tree_clf_rand,n_estimators=100, max_features=int(np.sqrt(data.shape[1])),bootstrap=False)\n",
    "cross_val_4 = model_selection.cross_val_score(estimator=bag_clf_rand,X=data,y=target,cv=10)\n",
    "ans_4 = cross_val_4.mean()\n",
    "print ans_4"
   ]
  },
  {
   "cell_type": "code",
   "execution_count": 65,
   "metadata": {
    "collapsed": true
   },
   "outputs": [],
   "source": [
    "?ensemble.RandomForestClassifier()"
   ]
  },
  {
   "cell_type": "code",
   "execution_count": 62,
   "metadata": {
    "collapsed": true
   },
   "outputs": [],
   "source": [
    "from matplotlib import pyplot as plt"
   ]
  },
  {
   "cell_type": "code",
   "execution_count": 63,
   "metadata": {},
   "outputs": [
    {
     "data": {
      "text/plain": [
       "[<matplotlib.lines.Line2D at 0x7f348014b510>]"
      ]
     },
     "execution_count": 63,
     "metadata": {},
     "output_type": "execute_result"
    }
   ],
   "source": [
    "scores = []\n",
    "for i in range(5,100,5):\n",
    "    rand_forest = ensemble.RandomForestClassifier(n_estimators=i)\n",
    "    cvs = model_selection.cross_val_score(estimator=rand_forest,X=data,y=target,cv=10)\n",
    "    scores.append(cvs.mean())"
   ]
  },
  {
   "cell_type": "code",
   "execution_count": 64,
   "metadata": {},
   "outputs": [
    {
     "data": {
      "image/png": "[encoded data removed]",
      "text/plain": [
       "<matplotlib.figure.Figure at 0x7f34875bb950>"
      ]
     },
     "metadata": {},
     "output_type": "display_data"
    }
   ],
   "source": [
    "plt.plot(range(5,100,5),scores)\n",
    "plt.show()"
   ]
  },
  {
   "cell_type": "code",
   "execution_count": 66,
   "metadata": {
    "collapsed": true
   },
   "outputs": [],
   "source": [
    "scores_feat = []\n",
    "for i in range(5,60,5):\n",
    "    rand_forest = ensemble.RandomForestClassifier(max_features=i)\n",
    "    cvs = model_selection.cross_val_score(estimator=rand_forest,X=data,y=target,cv=10)\n",
    "    scores_feat.append(cvs.mean())"
   ]
  },
  {
   "cell_type": "code",
   "execution_count": 67,
   "metadata": {},
   "outputs": [
    {
     "data": {
      "image/png": "[encoded data removed]",
      "text/plain": [
       "<matplotlib.figure.Figure at 0x7f34801015d0>"
      ]
     },
     "metadata": {},
     "output_type": "display_data"
    }
   ],
   "source": [
    "plt.plot(range(5,60,5),scores_feat)\n",
    "plt.show()"
   ]
  },
  {
   "cell_type": "code",
   "execution_count": 68,
   "metadata": {
    "collapsed": true
   },
   "outputs": [],
   "source": [
    "scores_depth = []\n",
    "for i in [3,4,5,6,8,10,15,20]:\n",
    "    rand_forest = ensemble.RandomForestClassifier(max_depth=i)\n",
    "    cvs = model_selection.cross_val_score(estimator=rand_forest,X=data,y=target,cv=10)\n",
    "    scores_depth.append(cvs.mean())"
   ]
  },
  {
   "cell_type": "code",
   "execution_count": 72,
   "metadata": {},
   "outputs": [
    {
     "data": {
      "text/plain": [
       "1"
      ]
     },
     "execution_count": 72,
     "metadata": {},
     "output_type": "execute_result"
    }
   ],
   "source": [
    "def pos(array,element):\n",
    "    for i in xrange(len(array)):\n",
    "        if array[i] == element:\n",
    "            return i\n",
    "\n",
    "ans = [ans_1,ans_2,ans_3,ans_4]\n",
    "pos(ans,ans_2)"
   ]
  },
  {
   "cell_type": "code",
   "execution_count": 69,
   "metadata": {
    "scrolled": true
   },
   "outputs": [
    {
     "data": {
      "image/png": "[encoded data removed]",
      "text/plain": [
       "<matplotlib.figure.Figure at 0x7f348007f450>"
      ]
     },
     "metadata": {},
     "output_type": "display_data"
    }
   ],
   "source": [
    "plt.plot([3,4,5,6,8,10,15,20],scores_depth)\n",
    "plt.show()"
   ]
  },
  {
   "cell_type": "code",
   "execution_count": 74,
   "metadata": {
    "collapsed": true
   },
   "outputs": [],
   "source": [
    "ans = [ans_1,ans_2,ans_3,ans_4]\n",
    "for i in ans:\n",
    "    f = open(str(pos(ans,i)+1)+'.txt','w')\n",
    "    f.write(str(i))\n",
    "    f.close()"
   ]
  },
  {
   "cell_type": "code",
   "execution_count": null,
   "metadata": {
    "collapsed": true
   },
   "outputs": [],
   "source": []
  }
 ],
 "metadata": {
  "kernelspec": {
   "display_name": "Python 2",
   "language": "python",
   "name": "python2"
  },
  "language_info": {
   "codemirror_mode": {
    "name": "ipython",
    "version": 2
   },
   "file_extension": ".py",
   "mimetype": "text/x-python",
   "name": "python",
   "nbconvert_exporter": "python",
   "pygments_lexer": "ipython2",
   "version": "2.7.14"
  }
 },
 "nbformat": 4,
 "nbformat_minor": 2
}
